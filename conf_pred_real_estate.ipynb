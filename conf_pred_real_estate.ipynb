{
  "metadata": {
    "kernelspec": {
      "language": "python",
      "display_name": "Python 3",
      "name": "python3"
    },
    "language_info": {
      "name": "python",
      "version": "3.10.12",
      "mimetype": "text/x-python",
      "codemirror_mode": {
        "name": "ipython",
        "version": 3
      },
      "pygments_lexer": "ipython3",
      "nbconvert_exporter": "python",
      "file_extension": ".py"
    },
    "kaggle": {
      "accelerator": "none",
      "dataSources": [
        {
          "sourceId": 204267,
          "sourceType": "datasetVersion",
          "datasetId": 88705
        }
      ],
      "dockerImageVersionId": 30822,
      "isInternetEnabled": true,
      "language": "python",
      "sourceType": "notebook",
      "isGpuEnabled": false
    },
    "colab": {
      "provenance": [],
      "include_colab_link": true
    }
  },
  "nbformat_minor": 0,
  "nbformat": 4,
  "cells": [
    {
      "cell_type": "markdown",
      "metadata": {
        "id": "view-in-github",
        "colab_type": "text"
      },
      "source": [
        "<a href=\"https://colab.research.google.com/github/viktorjovev/conformal_prediction_regression_modeling/blob/main/conf_pred_real_estate.ipynb\" target=\"_parent\"><img src=\"https://colab.research.google.com/assets/colab-badge.svg\" alt=\"Open In Colab\"/></a>"
      ]
    },
    {
      "source": [
        "import kagglehub\n",
        "quantbruce_real_estate_price_prediction_path = kagglehub.dataset_download('quantbruce/real-estate-price-prediction')\n",
        "\n",
        "print('Data source import complete.')\n"
      ],
      "metadata": {
        "id": "wOVR2b6Uyy1-"
      },
      "cell_type": "code",
      "outputs": [],
      "execution_count": null
    },
    {
      "cell_type": "code",
      "source": [
        "import numpy as np\n",
        "import pandas as pd\n",
        "\n",
        "\n",
        "import os\n",
        "for dirname, _, filenames in os.walk(quantbruce_real_estate_price_prediction_path):\n",
        "    for filename in filenames:\n",
        "        print(os.path.join(dirname, filename))\n"
      ],
      "metadata": {
        "_uuid": "8f2839f25d086af736a60e9eeb907d3b93b6e0e5",
        "_cell_guid": "b1076dfc-b9ad-4769-8c92-a6c4dae69d19",
        "trusted": true,
        "execution": {
          "iopub.status.busy": "2025-01-03T20:49:50.232526Z",
          "iopub.execute_input": "2025-01-03T20:49:50.232906Z",
          "iopub.status.idle": "2025-01-03T20:49:50.682595Z",
          "shell.execute_reply.started": "2025-01-03T20:49:50.232852Z",
          "shell.execute_reply": "2025-01-03T20:49:50.68127Z"
        },
        "id": "60m4OAPAyy1_"
      },
      "outputs": [],
      "execution_count": null
    },
    {
      "cell_type": "code",
      "source": [
        "!pip install mapie"
      ],
      "metadata": {
        "trusted": true,
        "execution": {
          "iopub.status.busy": "2025-01-03T20:51:08.229514Z",
          "iopub.execute_input": "2025-01-03T20:51:08.229921Z",
          "iopub.status.idle": "2025-01-03T20:51:14.920618Z",
          "shell.execute_reply.started": "2025-01-03T20:51:08.229888Z",
          "shell.execute_reply": "2025-01-03T20:51:14.919192Z"
        },
        "id": "fghDXxA2yy1_"
      },
      "outputs": [],
      "execution_count": null
    },
    {
      "cell_type": "code",
      "source": [
        "def fast_mwis_score(y_true, lower, upper, alpha):\n",
        "    assert y_true.ndim == 1, \"y_true: pandas Series or 1D array expected\"\n",
        "    assert lower.ndim == 1, \"lower: pandas Series or 1D array expected\"\n",
        "    assert upper.ndim == 1, \"upper: pandas Series or 1D array expected\"\n",
        "    assert isinstance(alpha, float), \"alpha: float expected\"\n",
        "    assert (lower <= upper).all(), (\"lower must be <= upper\",\n",
        "                                    lower[lower > upper],\n",
        "                                    upper[lower > upper])\n",
        "\n",
        "    total_interval_width = upper.sum() - lower.sum()\n",
        "    error_above = (y_true - upper)[y_true > upper].sum()\n",
        "    error_below = (lower - y_true)[y_true < lower].sum()\n",
        "    total_error = error_above + error_below\n",
        "    mwis = (total_interval_width + total_error * 2 / alpha) / len(y_true)\n",
        "    below = (y_true < lower).mean()\n",
        "    above = (upper < y_true).mean()\n",
        "    coverage = ((lower <= y_true) & (y_true <= upper)).mean()\n",
        "    return mwis, below, coverage, above"
      ],
      "metadata": {
        "trusted": true,
        "execution": {
          "iopub.status.busy": "2025-01-03T20:50:14.624843Z",
          "iopub.execute_input": "2025-01-03T20:50:14.625195Z",
          "iopub.status.idle": "2025-01-03T20:50:14.633135Z",
          "shell.execute_reply.started": "2025-01-03T20:50:14.625168Z",
          "shell.execute_reply": "2025-01-03T20:50:14.631976Z"
        },
        "id": "vYEPbqrQyy2A"
      },
      "outputs": [],
      "execution_count": null
    },
    {
      "cell_type": "code",
      "source": [
        "df = pd.read_csv('/root/.cache/kagglehub/datasets/quantbruce/real-estate-price-prediction/versions/1/Real estate.csv',index_col=\"No\")\n",
        "df.head()"
      ],
      "metadata": {
        "trusted": true,
        "execution": {
          "iopub.status.busy": "2025-01-03T20:50:37.773323Z",
          "iopub.execute_input": "2025-01-03T20:50:37.773649Z",
          "iopub.status.idle": "2025-01-03T20:50:37.82779Z",
          "shell.execute_reply.started": "2025-01-03T20:50:37.773622Z",
          "shell.execute_reply": "2025-01-03T20:50:37.826627Z"
        },
        "id": "TeQ87sUUyy2A"
      },
      "outputs": [],
      "execution_count": null
    },
    {
      "cell_type": "code",
      "source": [
        "df = df[df['Y house price of unit area'] < 115]"
      ],
      "metadata": {
        "trusted": true,
        "execution": {
          "iopub.status.busy": "2025-01-03T20:50:38.451108Z",
          "iopub.execute_input": "2025-01-03T20:50:38.451495Z",
          "iopub.status.idle": "2025-01-03T20:50:38.45784Z",
          "shell.execute_reply.started": "2025-01-03T20:50:38.451461Z",
          "shell.execute_reply": "2025-01-03T20:50:38.456465Z"
        },
        "id": "rmO9WVNOyy2A"
      },
      "outputs": [],
      "execution_count": null
    },
    {
      "cell_type": "code",
      "source": [
        "from scipy import stats\n",
        "import numpy as np\n",
        "import matplotlib.pyplot as plt\n",
        "\n",
        "np.random.seed(42)\n",
        "\n",
        "x = df['Y house price of unit area'].dropna()\n",
        "\n",
        "bins = np.linspace(x.min(), x.max(), 30)\n",
        "\n",
        "fig, ax = plt.subplots(figsize=(10, 6))\n",
        "ax.hist(x, bins=bins, alpha=0.5, color='blue')\n",
        "ax.grid(True, which='both', linestyle='--', linewidth=0.5, color='gray')\n",
        "\n",
        "ax.set_xlabel('Цена на куќа по единица површина', fontsize=12)\n",
        "ax.set_ylabel('Број', fontsize=12)\n",
        "ax.legend()\n",
        "plt.tight_layout()\n",
        "plt.show()"
      ],
      "metadata": {
        "trusted": true,
        "execution": {
          "iopub.status.busy": "2025-01-03T20:50:40.457794Z",
          "iopub.execute_input": "2025-01-03T20:50:40.458136Z",
          "iopub.status.idle": "2025-01-03T20:50:41.370698Z",
          "shell.execute_reply.started": "2025-01-03T20:50:40.458111Z",
          "shell.execute_reply": "2025-01-03T20:50:41.369517Z"
        },
        "id": "EtoMvcx8yy2A"
      },
      "outputs": [],
      "execution_count": null
    },
    {
      "cell_type": "code",
      "source": [
        "import matplotlib.pyplot as plt\n",
        "import matplotlib.gridspec as gridspec\n",
        "\n",
        "fig = plt.figure(figsize=(16, 12))\n",
        "gs = gridspec.GridSpec(2, 2, figure=fig)\n",
        "\n",
        "ax1 = fig.add_subplot(gs[0, 0])\n",
        "ax1.scatter(df['X2 house age'], df['Y house price of unit area'], color='blue', alpha=0.7)\n",
        "ax1.set_xlabel('X2 - Старост на куќа', fontsize=16)\n",
        "ax1.set_ylabel('Y - Цена на куќа по единица површинa', fontsize=16)\n",
        "ax1.tick_params(axis='both', labelsize=14)\n",
        "ax1.legend(fontsize=14)\n",
        "ax1.grid(True)\n",
        "\n",
        "ax2 = fig.add_subplot(gs[0, 1])\n",
        "ax2.scatter(df['X3 distance to the nearest MRT station'], df['Y house price of unit area'], color='green', alpha=0.7)\n",
        "ax2.set_xlabel('X3 - Најмало растојание до транспортен систем', fontsize=16)\n",
        "ax2.tick_params(axis='both', labelsize=14)\n",
        "ax2.legend(fontsize=14)\n",
        "ax2.grid(True)\n",
        "\n",
        "ax3 = fig.add_subplot(gs[1, :])\n",
        "ax3.scatter(df['X4 number of convenience stores'], df['Y house price of unit area'], color='red', alpha=0.7)\n",
        "ax3.set_xlabel('X4 - Број на погодни продавници', fontsize=16)\n",
        "ax3.tick_params(axis='both', labelsize=14)\n",
        "ax3.legend(fontsize=14)\n",
        "ax3.grid(True)\n",
        "\n",
        "\n",
        "plt.tight_layout()\n",
        "plt.show()\n"
      ],
      "metadata": {
        "trusted": true,
        "execution": {
          "iopub.status.busy": "2025-01-03T20:50:44.02986Z",
          "iopub.execute_input": "2025-01-03T20:50:44.03037Z",
          "iopub.status.idle": "2025-01-03T20:50:44.782874Z",
          "shell.execute_reply.started": "2025-01-03T20:50:44.030335Z",
          "shell.execute_reply": "2025-01-03T20:50:44.781731Z"
        },
        "id": "EaZ5oQu6yy2A"
      },
      "outputs": [],
      "execution_count": null
    },
    {
      "cell_type": "code",
      "source": [
        "import seaborn as sns\n",
        "labels = [\"ниска\", \"средна\", \"висока\", \"луксузна\"]\n",
        "df[\"класа\"] = pd.cut(df[\"Y house price of unit area\"], bins=4, labels=labels)\n",
        "\n",
        "sns.scatterplot(x=\"X5 latitude\", y=\"X6 longitude\", hue=\"класа\", data=df, s=100)\n",
        "plt.xlabel(\"X5 - географска ширина\")\n",
        "plt.ylabel(\"X6 - географска должина\")\n",
        "plt.grid()\n"
      ],
      "metadata": {
        "trusted": true,
        "execution": {
          "iopub.status.busy": "2025-01-03T20:50:51.072941Z",
          "iopub.execute_input": "2025-01-03T20:50:51.073316Z",
          "iopub.status.idle": "2025-01-03T20:50:52.089144Z",
          "shell.execute_reply.started": "2025-01-03T20:50:51.073286Z",
          "shell.execute_reply": "2025-01-03T20:50:52.087894Z"
        },
        "id": "o5lVMdH7yy2A"
      },
      "outputs": [],
      "execution_count": null
    },
    {
      "cell_type": "code",
      "source": [
        "import matplotlib.pyplot as plt\n",
        "import seaborn as sns\n",
        "import matplotlib.gridspec as gridspec\n",
        "\n",
        "fig = plt.figure(figsize=(16, 12))\n",
        "gs = gridspec.GridSpec(2, 2, figure=fig)\n",
        "\n",
        "ax1 = fig.add_subplot(gs[0, 0])\n",
        "sns.lineplot(x=\"X3 distance to the nearest MRT station\", y=\"Y house price of unit area\", data=df, hue=\"класа\", ax=ax1)\n",
        "ax1.set_xlabel(\"X3 - Најмало растојание до транспортен систем\", fontsize=16)\n",
        "ax1.set_ylabel(\"Y - Цена на куќа по единица површинa\", fontsize=16)\n",
        "ax1.tick_params(axis='both', labelsize=14)\n",
        "ax1.legend(fontsize=14)\n",
        "ax1.grid(True)\n",
        "\n",
        "ax2 = fig.add_subplot(gs[0, 1])\n",
        "sns.lineplot(x=\"X4 number of convenience stores\", y=\"Y house price of unit area\", data=df, hue=\"класа\", ax=ax2)\n",
        "ax2.set_xlabel(\"X4 - број на погодни продавници\", fontsize=16)\n",
        "ax2.set_ylabel(\"\", fontsize=16)\n",
        "ax2.tick_params(axis='both', labelsize=14)\n",
        "ax2.legend(fontsize=14)\n",
        "ax2.grid(True)\n",
        "\n",
        "ax3 = fig.add_subplot(gs[1, :])\n",
        "sns.lineplot(x=\"X1 transaction date\", y=\"Y house price of unit area\", data=df, hue=\"класа\", ax=ax3)\n",
        "ax3.set_xlabel(\"X1 - Датум на трансакција\", fontsize=16)\n",
        "ax3.set_ylabel(\"\", fontsize=16)\n",
        "ax3.tick_params(axis='both', labelsize=14)\n",
        "ax3.legend(fontsize=14)\n",
        "ax3.grid(True)\n",
        "\n",
        "plt.tight_layout()\n",
        "plt.show()\n"
      ],
      "metadata": {
        "trusted": true,
        "execution": {
          "iopub.status.busy": "2025-01-03T20:50:52.797757Z",
          "iopub.execute_input": "2025-01-03T20:50:52.798291Z",
          "iopub.status.idle": "2025-01-03T20:50:56.76629Z",
          "shell.execute_reply.started": "2025-01-03T20:50:52.798259Z",
          "shell.execute_reply": "2025-01-03T20:50:56.764889Z"
        },
        "id": "3V-pnYYkyy2B"
      },
      "outputs": [],
      "execution_count": null
    },
    {
      "cell_type": "code",
      "source": [
        "from sklearn.model_selection import train_test_split\n",
        "from sklearn.neighbors import KNeighborsRegressor\n",
        "from sklearn.metrics import mean_squared_error, r2_score\n",
        "from mapie.regression import MapieRegressor\n",
        "\n",
        "from sklearn.model_selection import KFold\n",
        "\n",
        "skf = KFold(n_splits = 5,  random_state = 42, shuffle= True)\n",
        "X = df[['X2 house age', 'X3 distance to the nearest MRT station', 'X4 number of convenience stores', 'X5 latitude', 'X6 longitude']]\n",
        "y = df['Y house price of unit area']\n",
        "\n",
        "X_train, X_test, y_train, y_test = train_test_split(X, y, test_size=0.3, random_state=0)\n",
        "\n",
        "knn = KNeighborsRegressor(n_neighbors=6, p=1, metric='manhattan')\n",
        "\n",
        "knn.fit(X_train, y_train)\n",
        "\n",
        "mapie = MapieRegressor(estimator=knn, cv = skf, method=\"naive\")\n",
        "\n",
        "mapie.fit(X_train, y_train)\n"
      ],
      "metadata": {
        "trusted": true,
        "execution": {
          "iopub.status.busy": "2025-01-03T20:54:12.119456Z",
          "iopub.execute_input": "2025-01-03T20:54:12.11986Z",
          "iopub.status.idle": "2025-01-03T20:54:12.145379Z",
          "shell.execute_reply.started": "2025-01-03T20:54:12.119825Z",
          "shell.execute_reply": "2025-01-03T20:54:12.143907Z"
        },
        "id": "D0INT8UFyy2B"
      },
      "outputs": [],
      "execution_count": null
    },
    {
      "cell_type": "code",
      "source": [
        "y_pred = knn.predict(X_train)\n",
        "\n",
        "mse = mean_squared_error(y_train, y_pred)\n",
        "r2 = r2_score(y_train, y_pred)\n",
        "\n",
        "print(f\"Mean Squared Error: {mse:.2f}\")\n",
        "print(f\"R-squared: {r2:.2f}\")"
      ],
      "metadata": {
        "trusted": true,
        "execution": {
          "iopub.status.busy": "2025-01-03T20:54:13.533163Z",
          "iopub.execute_input": "2025-01-03T20:54:13.533492Z",
          "iopub.status.idle": "2025-01-03T20:54:13.544065Z",
          "shell.execute_reply.started": "2025-01-03T20:54:13.533465Z",
          "shell.execute_reply": "2025-01-03T20:54:13.54288Z"
        },
        "id": "dTDvZx3myy2B"
      },
      "outputs": [],
      "execution_count": null
    },
    {
      "cell_type": "code",
      "source": [
        "y_pred, y_pis = mapie.predict(X_train, alpha=0.1)\n",
        "\n",
        "for i in range(int(len(y_pred)*0.05)):\n",
        "    print(f\"Prediction: {y_pred[i]:.2f}, Lower Bound: {y_pis[i][0][0]:.2f}, Upper Bound: {y_pis[i][1][0]:.2f}\")"
      ],
      "metadata": {
        "trusted": true,
        "execution": {
          "iopub.status.busy": "2025-01-03T20:54:20.294109Z",
          "iopub.execute_input": "2025-01-03T20:54:20.294491Z",
          "iopub.status.idle": "2025-01-03T20:54:20.306233Z",
          "shell.execute_reply.started": "2025-01-03T20:54:20.294458Z",
          "shell.execute_reply": "2025-01-03T20:54:20.305076Z"
        },
        "id": "gZ0rwPG9yy2B"
      },
      "outputs": [],
      "execution_count": null
    },
    {
      "cell_type": "code",
      "source": [
        "lower_bounds = np.concatenate([array[:][0] for array in y_pis])\n",
        "upper_bounds = np.concatenate([array[:][1] for array in y_pis])\n",
        "fast_mwis_score(y_train, lower_bounds, upper_bounds, 0.1)"
      ],
      "metadata": {
        "trusted": true,
        "execution": {
          "iopub.status.busy": "2025-01-03T20:54:21.743529Z",
          "iopub.execute_input": "2025-01-03T20:54:21.743955Z",
          "iopub.status.idle": "2025-01-03T20:54:21.755055Z",
          "shell.execute_reply.started": "2025-01-03T20:54:21.74392Z",
          "shell.execute_reply": "2025-01-03T20:54:21.753812Z"
        },
        "id": "qtaHlj3Hyy2B"
      },
      "outputs": [],
      "execution_count": null
    },
    {
      "cell_type": "code",
      "source": [
        "import matplotlib.pyplot as plt\n",
        "\n",
        "plt.figure(figsize=(12, 6))\n",
        "plt.subplot(1, 2, 1)\n",
        "plt.scatter(y_train, y_pred, color=\"blue\", alpha=0.6)\n",
        "plt.plot([min(y_train), max(y_train)], [min(y_train), max(y_train)], color=\"red\", linestyle=\"--\")\n",
        "plt.xlabel(\"Вистинските редности\")\n",
        "plt.ylabel(\"Предвидените вредности\")\n",
        "\n",
        "\n",
        "plt.tight_layout()\n",
        "plt.show()\n"
      ],
      "metadata": {
        "trusted": true,
        "execution": {
          "iopub.status.busy": "2025-01-03T20:54:23.17693Z",
          "iopub.execute_input": "2025-01-03T20:54:23.177332Z",
          "iopub.status.idle": "2025-01-03T20:54:23.541796Z",
          "shell.execute_reply.started": "2025-01-03T20:54:23.177298Z",
          "shell.execute_reply": "2025-01-03T20:54:23.540565Z"
        },
        "id": "Cb3-h4Y8yy2B"
      },
      "outputs": [],
      "execution_count": null
    },
    {
      "cell_type": "code",
      "source": [
        "y_pred = knn.predict(X_test)\n",
        "\n",
        "mse = mean_squared_error(y_test, y_pred)\n",
        "r2 = r2_score(y_test, y_pred)\n",
        "\n",
        "print(f\"Mean Squared Error: {mse:.2f}\")\n",
        "print(f\"R-squared: {r2:.2f}\")"
      ],
      "metadata": {
        "trusted": true,
        "execution": {
          "iopub.status.busy": "2025-01-03T20:54:25.208196Z",
          "iopub.execute_input": "2025-01-03T20:54:25.20853Z",
          "iopub.status.idle": "2025-01-03T20:54:25.219276Z",
          "shell.execute_reply.started": "2025-01-03T20:54:25.208502Z",
          "shell.execute_reply": "2025-01-03T20:54:25.217705Z"
        },
        "id": "rjC_hLdQyy2B"
      },
      "outputs": [],
      "execution_count": null
    },
    {
      "cell_type": "code",
      "source": [
        "y_pred, y_pis = mapie.predict(X_test, alpha=0.1)\n",
        "\n",
        "for i in range(int(len(y_pred)*0.1)):\n",
        "    print(f\"Prediction: {y_pred[i]:.2f}, Lower Bound: {y_pis[i][0][0]:.2f}, Upper Bound: {y_pis[i][1][0]:.2f}\")"
      ],
      "metadata": {
        "trusted": true,
        "execution": {
          "iopub.status.busy": "2025-01-03T20:54:26.424141Z",
          "iopub.execute_input": "2025-01-03T20:54:26.424472Z",
          "iopub.status.idle": "2025-01-03T20:54:26.437043Z",
          "shell.execute_reply.started": "2025-01-03T20:54:26.424447Z",
          "shell.execute_reply": "2025-01-03T20:54:26.435731Z"
        },
        "id": "-bsTqQycyy2B"
      },
      "outputs": [],
      "execution_count": null
    },
    {
      "cell_type": "code",
      "source": [
        "lower_bounds = np.concatenate([array[:][0] for array in y_pis])\n",
        "upper_bounds = np.concatenate([array[:][1] for array in y_pis])\n",
        "\n",
        "fast_mwis_score(y_test, lower_bounds, upper_bounds,0.1)"
      ],
      "metadata": {
        "trusted": true,
        "execution": {
          "iopub.status.busy": "2025-01-03T20:54:27.562182Z",
          "iopub.execute_input": "2025-01-03T20:54:27.562563Z",
          "iopub.status.idle": "2025-01-03T20:54:27.573511Z",
          "shell.execute_reply.started": "2025-01-03T20:54:27.562531Z",
          "shell.execute_reply": "2025-01-03T20:54:27.571889Z"
        },
        "id": "S0oSykdtyy2B"
      },
      "outputs": [],
      "execution_count": null
    },
    {
      "cell_type": "code",
      "source": [
        "import matplotlib.pyplot as plt\n",
        "\n",
        "plt.figure(figsize=(12, 6))\n",
        "plt.subplot(1, 2, 1)\n",
        "plt.scatter(y_test, y_pred, color=\"blue\", alpha=0.6)\n",
        "plt.plot([min(y_test), max(y_test)], [min(y_test), max(y_test)], color=\"red\", linestyle=\"--\")\n",
        "plt.xlabel(\"Вистинските редности\")\n",
        "plt.ylabel(\"Предвидените вредности\")\n",
        "\n",
        "\n",
        "plt.tight_layout()\n",
        "plt.show()"
      ],
      "metadata": {
        "trusted": true,
        "execution": {
          "iopub.status.busy": "2025-01-03T20:54:32.644658Z",
          "iopub.execute_input": "2025-01-03T20:54:32.645065Z",
          "iopub.status.idle": "2025-01-03T20:54:32.994146Z",
          "shell.execute_reply.started": "2025-01-03T20:54:32.645035Z",
          "shell.execute_reply": "2025-01-03T20:54:32.993059Z"
        },
        "id": "NME6fZsEyy2B"
      },
      "outputs": [],
      "execution_count": null
    }
  ]
}