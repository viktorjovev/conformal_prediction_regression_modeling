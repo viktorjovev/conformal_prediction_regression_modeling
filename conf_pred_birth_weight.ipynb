{
  "metadata": {
    "kernelspec": {
      "language": "python",
      "display_name": "Python 3",
      "name": "python3"
    },
    "language_info": {
      "name": "python",
      "version": "3.10.14",
      "mimetype": "text/x-python",
      "codemirror_mode": {
        "name": "ipython",
        "version": 3
      },
      "pygments_lexer": "ipython3",
      "nbconvert_exporter": "python",
      "file_extension": ".py"
    },
    "kaggle": {
      "accelerator": "none",
      "dataSources": [
        {
          "sourceId": 65445,
          "databundleVersionId": 8020009,
          "sourceType": "competition"
        }
      ],
      "dockerImageVersionId": 30804,
      "isInternetEnabled": true,
      "language": "python",
      "sourceType": "notebook",
      "isGpuEnabled": false
    },
    "colab": {
      "provenance": [],
      "include_colab_link": true
    }
  },
  "nbformat_minor": 0,
  "nbformat": 4,
  "cells": [
    {
      "cell_type": "markdown",
      "metadata": {
        "id": "view-in-github",
        "colab_type": "text"
      },
      "source": [
        "<a href=\"https://colab.research.google.com/github/viktorjovev/conformal_prediction_regression_modeling/blob/main/conf_pred_birth_weight.ipynb\" target=\"_parent\"><img src=\"https://colab.research.google.com/assets/colab-badge.svg\" alt=\"Open In Colab\"/></a>"
      ]
    },
    {
      "source": [
        "import kagglehub\n",
        "kagglehub.login()\n",
        "\n",
        "prediction_interval_competition_i_birth_weight_path = kagglehub.competition_download('prediction-interval-competition-i-birth-weight')\n",
        "\n",
        "print('Data source import complete.')\n"
      ],
      "metadata": {
        "id": "f8kw8GSCyo2s"
      },
      "cell_type": "code",
      "outputs": [],
      "execution_count": null
    },
    {
      "cell_type": "code",
      "source": [
        "import numpy as np\n",
        "import pandas as pd\n",
        "pd.set_option('display.max_columns', None)\n",
        "\n",
        "import os\n",
        "for dirname, _, filenames in os.walk(prediction_interval_competition_i_birth_weight_path):\n",
        "    for filename in filenames:\n",
        "        print(os.path.join(dirname, filename))"
      ],
      "metadata": {
        "_uuid": "8f2839f25d086af736a60e9eeb907d3b93b6e0e5",
        "_cell_guid": "b1076dfc-b9ad-4769-8c92-a6c4dae69d19",
        "trusted": true,
        "execution": {
          "iopub.status.busy": "2025-01-03T22:05:39.864766Z",
          "iopub.execute_input": "2025-01-03T22:05:39.865294Z",
          "iopub.status.idle": "2025-01-03T22:05:41.280559Z",
          "shell.execute_reply.started": "2025-01-03T22:05:39.865237Z",
          "shell.execute_reply": "2025-01-03T22:05:41.279293Z"
        },
        "id": "08Fhwe4Gyo20",
        "collapsed": true
      },
      "outputs": [],
      "execution_count": null
    },
    {
      "cell_type": "code",
      "source": [
        "def fast_mwis_score(y_true, lower, upper, alpha):\n",
        "    assert y_true.ndim == 1, \"y_true: pandas Series or 1D array expected\"\n",
        "    assert lower.ndim == 1, \"lower: pandas Series or 1D array expected\"\n",
        "    assert upper.ndim == 1, \"upper: pandas Series or 1D array expected\"\n",
        "    assert isinstance(alpha, float), \"alpha: float expected\"\n",
        "    assert (lower <= upper).all(), (\"lower must be <= upper\",\n",
        "                                    lower[lower > upper],\n",
        "                                    upper[lower > upper])\n",
        "\n",
        "    total_interval_width = upper.sum() - lower.sum()\n",
        "    error_above = (y_true - upper)[y_true > upper].sum()\n",
        "    error_below = (lower - y_true)[y_true < lower].sum()\n",
        "    total_error = error_above + error_below\n",
        "    mwis = (total_interval_width + total_error * 2 / alpha) / len(y_true)\n",
        "    below = (y_true < lower).mean()\n",
        "    above = (upper < y_true).mean()\n",
        "    coverage = ((lower <= y_true) & (y_true <= upper)).mean()\n",
        "    return mwis, below, coverage, above"
      ],
      "metadata": {
        "trusted": true,
        "execution": {
          "iopub.status.busy": "2025-01-03T22:05:41.282947Z",
          "iopub.execute_input": "2025-01-03T22:05:41.283618Z",
          "iopub.status.idle": "2025-01-03T22:05:41.294175Z",
          "shell.execute_reply.started": "2025-01-03T22:05:41.283563Z",
          "shell.execute_reply": "2025-01-03T22:05:41.292981Z"
        },
        "id": "iMS02aUXyo22"
      },
      "outputs": [],
      "execution_count": null
    },
    {
      "cell_type": "code",
      "source": [
        "!pip install mapie"
      ],
      "metadata": {
        "trusted": true,
        "execution": {
          "iopub.status.busy": "2025-01-03T22:05:42.399695Z",
          "iopub.execute_input": "2025-01-03T22:05:42.400175Z",
          "iopub.status.idle": "2025-01-03T22:05:55.368703Z",
          "shell.execute_reply.started": "2025-01-03T22:05:42.400136Z",
          "shell.execute_reply": "2025-01-03T22:05:55.36727Z"
        },
        "id": "5Dvp5CpNyo23",
        "collapsed": true
      },
      "outputs": [],
      "execution_count": null
    },
    {
      "cell_type": "code",
      "source": [
        "df = pd.read_csv(\"/root/.cache/kagglehub/competitions/prediction-interval-competition-i-birth-weight/train.csv\")\n",
        "df['LD_INDL'] = df['LD_INDL'].map({'N':0, 'Y': 1})\n",
        "df['RF_CESAR'] = df['RF_CESAR'].map({'N':0, 'Y': 1})\n",
        "df['SEX'] = df['SEX'].map({'F':0, 'M': 1})\n",
        "df['DMAR'] = df['DMAR'].map({'1': 'Married', '2': 'Unmarried', ' ': 'Not_declared'})\n",
        "df = pd.concat([df.drop(columns = 'DMAR', axis = 1), pd.get_dummies(df['DMAR'], dtype = int).drop(columns = ['Not_declared'], axis = 1)], axis = 1)\n",
        "df['approx_term'] = np.where(df['DLMP_MM'] != 99, df['DOB_MM'] - df['DLMP_MM'], 0)\n",
        "df['approx_term'] = np.where(df['approx_term'] < 0,\n",
        "                                 df['approx_term'] + 12,\n",
        "                                 df['approx_term'])\n",
        "df['plural_delivery'] = (df['ILLB_R'] == 3).astype(float)\n",
        "df = df.drop(columns = ['id', 'DOB_TT', 'DOB_MM'], axis = 1)\n"
      ],
      "metadata": {
        "trusted": true,
        "execution": {
          "iopub.status.busy": "2025-01-03T22:06:11.184893Z",
          "iopub.execute_input": "2025-01-03T22:06:11.18532Z",
          "iopub.status.idle": "2025-01-03T22:06:11.62284Z",
          "shell.execute_reply.started": "2025-01-03T22:06:11.185284Z",
          "shell.execute_reply": "2025-01-03T22:06:11.620983Z"
        },
        "id": "v-vTww75yo25"
      },
      "outputs": [],
      "execution_count": null
    },
    {
      "cell_type": "code",
      "source": [
        "from scipy import stats\n",
        "import numpy as np\n",
        "import matplotlib.pyplot as plt\n",
        "\n",
        "np.random.seed(42)\n",
        "x = df['DBWT'].dropna()\n",
        "bins = np.linspace(x.min(), x.max(), 30)\n",
        "fig, ax = plt.subplots(figsize=(10, 6))\n",
        "ax.hist(x, bins=bins, alpha=0.5, color='blue')\n",
        "ax.grid(True, which='both', linestyle='--', linewidth=0.5, color='gray')\n",
        "ax.set_title('Распределба на Тежина на новороденчињата', fontsize=14)\n",
        "ax.set_xlabel('Тежина (грамови)', fontsize=12)\n",
        "ax.set_ylabel('Број на новороденчиња', fontsize=12)\n",
        "ax.legend()\n",
        "plt.tight_layout()\n",
        "plt.show()"
      ],
      "metadata": {
        "trusted": true,
        "execution": {
          "iopub.status.busy": "2025-01-03T22:06:11.626275Z",
          "iopub.execute_input": "2025-01-03T22:06:11.627224Z",
          "iopub.status.idle": "2025-01-03T22:06:12.277563Z",
          "shell.execute_reply.started": "2025-01-03T22:06:11.627121Z",
          "shell.execute_reply": "2025-01-03T22:06:12.271731Z"
        },
        "id": "kmWh_rfQyo26",
        "collapsed": true
      },
      "outputs": [],
      "execution_count": null
    },
    {
      "cell_type": "code",
      "source": [
        "import matplotlib.pyplot as plt\n",
        "\n",
        "plt.figure(figsize=(8, 6))\n",
        "plt.boxplot(df['DBWT'].dropna())\n",
        "plt.title('Отстапувања во тежините на новороденчињата', fontsize=14)\n",
        "plt.ylabel('Тежина (грамови)', fontsize=12)\n",
        "plt.xlabel('', fontsize=1)\n",
        "\n",
        "plt.grid(True, which='both', linestyle='--', linewidth=0.5, color='gray')  #\n",
        "plt.show()\n"
      ],
      "metadata": {
        "trusted": true,
        "execution": {
          "iopub.status.busy": "2025-01-03T22:03:57.833296Z",
          "iopub.execute_input": "2025-01-03T22:03:57.833977Z",
          "iopub.status.idle": "2025-01-03T22:03:58.115068Z",
          "shell.execute_reply.started": "2025-01-03T22:03:57.833934Z",
          "shell.execute_reply": "2025-01-03T22:03:58.113322Z"
        },
        "id": "9HVzW1H9yo27",
        "collapsed": true
      },
      "outputs": [],
      "execution_count": null
    },
    {
      "cell_type": "code",
      "source": [
        "import matplotlib.pyplot as plt\n",
        "\n",
        "plt.figure(figsize=(10, 6))\n",
        "\n",
        "plt.scatter(range(len(df['DBWT'])), df['DBWT'], alpha=0.2, color='blue', label='')\n",
        "\n",
        "threshold = 1.5\n",
        "outliers = df[(df['DBWT'] < df['DBWT'].quantile(0.25) - threshold * (df['DBWT'].quantile(0.75) - df['DBWT'].quantile(0.25))) |\n",
        "              (df['DBWT'] > df['DBWT'].quantile(0.75) + threshold * (df['DBWT'].quantile(0.75) - df['DBWT'].quantile(0.25)))]\n",
        "\n",
        "plt.scatter(outliers.index, outliers['DBWT'],  alpha=0.7 ,color='red', label='Отстапувања')\n",
        "plt.grid(True, which='both', linestyle='--', linewidth=0.5, color='gray')\n",
        "plt.legend()\n",
        "plt.show()\n"
      ],
      "metadata": {
        "trusted": true,
        "execution": {
          "iopub.status.busy": "2025-01-03T22:03:59.628993Z",
          "iopub.execute_input": "2025-01-03T22:03:59.629522Z",
          "iopub.status.idle": "2025-01-03T22:04:01.035473Z",
          "shell.execute_reply.started": "2025-01-03T22:03:59.629481Z",
          "shell.execute_reply": "2025-01-03T22:04:01.034032Z"
        },
        "id": "92waOLQVyo29",
        "collapsed": true
      },
      "outputs": [],
      "execution_count": null
    },
    {
      "cell_type": "code",
      "source": [
        "import seaborn as sns\n",
        "\n",
        "correlation_matrix = df._get_numeric_data().corr()\n",
        "sns.heatmap(correlation_matrix, annot=False, cmap=\"coolwarm\")\n",
        "plt.title(\"Корелациона матрица\")\n",
        "plt.show()"
      ],
      "metadata": {
        "trusted": true,
        "execution": {
          "iopub.status.busy": "2025-01-03T22:04:03.601654Z",
          "iopub.execute_input": "2025-01-03T22:04:03.602217Z",
          "iopub.status.idle": "2025-01-03T22:04:04.863846Z",
          "shell.execute_reply.started": "2025-01-03T22:04:03.60217Z",
          "shell.execute_reply": "2025-01-03T22:04:04.862612Z"
        },
        "id": "RFCoSkv1yo2-",
        "collapsed": true
      },
      "outputs": [],
      "execution_count": null
    },
    {
      "cell_type": "code",
      "source": [
        "from scipy.cluster.hierarchy import dendrogram, linkage\n",
        "from scipy.spatial.distance import squareform\n",
        "\n",
        "def distance(data):\n",
        "    corr = data.corr(method = 'spearman')\n",
        "    dist_linkage = linkage(squareform(1 - abs(corr)), 'complete')\n",
        "    plt.figure(figsize = (8, 3), dpi = 500)\n",
        "    dendro = dendrogram(dist_linkage, labels=data.columns, leaf_rotation=90)\n",
        "    plt.title(f'Дендограм')\n",
        "    plt.show()\n",
        "\n",
        "distance(df._get_numeric_data())"
      ],
      "metadata": {
        "trusted": true,
        "execution": {
          "iopub.status.busy": "2025-01-03T22:04:04.866249Z",
          "iopub.execute_input": "2025-01-03T22:04:04.866975Z",
          "iopub.status.idle": "2025-01-03T22:04:07.113088Z",
          "shell.execute_reply.started": "2025-01-03T22:04:04.866919Z",
          "shell.execute_reply": "2025-01-03T22:04:07.111659Z"
        },
        "id": "HzyrDd_ayo2_",
        "collapsed": true
      },
      "outputs": [],
      "execution_count": null
    },
    {
      "cell_type": "code",
      "source": [
        "from sklearn.model_selection import KFold, StratifiedKFold, train_test_split, GridSearchCV, RepeatedStratifiedKFold, cross_val_score, cross_val_predict, RepeatedKFold, cross_validate\n",
        "skf = KFold(n_splits = 5,  random_state = 42, shuffle= True)"
      ],
      "metadata": {
        "trusted": true,
        "execution": {
          "iopub.status.busy": "2025-01-03T22:05:55.972652Z",
          "iopub.execute_input": "2025-01-03T22:05:55.973018Z",
          "iopub.status.idle": "2025-01-03T22:05:57.552423Z",
          "shell.execute_reply.started": "2025-01-03T22:05:55.972982Z",
          "shell.execute_reply": "2025-01-03T22:05:57.55113Z"
        },
        "id": "ibbeAEi8yo3A"
      },
      "outputs": [],
      "execution_count": null
    },
    {
      "cell_type": "code",
      "source": [
        "import numpy as np\n",
        "from sklearn.linear_model import Ridge\n",
        "from sklearn.model_selection import train_test_split\n",
        "from mapie.regression import MapieRegressor, MapieQuantileRegressor\n",
        "X = df.drop(columns=['DBWT'], axis=1)\n",
        "y = df['DBWT']\n",
        "\n",
        "X_train, X_test, y_train, y_test = train_test_split(X, y, test_size=0.2, random_state=42)"
      ],
      "metadata": {
        "trusted": true,
        "execution": {
          "iopub.status.busy": "2025-01-03T22:05:57.556134Z",
          "iopub.execute_input": "2025-01-03T22:05:57.556897Z",
          "iopub.status.idle": "2025-01-03T22:05:57.771152Z",
          "shell.execute_reply.started": "2025-01-03T22:05:57.556831Z",
          "shell.execute_reply": "2025-01-03T22:05:57.770099Z"
        },
        "id": "RtMoPWayyo3A"
      },
      "outputs": [],
      "execution_count": null
    },
    {
      "cell_type": "code",
      "source": [
        "ridge = Ridge(alpha=1.0)\n",
        "ridge.fit(X_train,y_train)\n",
        "mapie = MapieRegressor(estimator=ridge, cv=skf, method='naive')\n",
        "mapie.fit(X_train, y_train)"
      ],
      "metadata": {
        "trusted": true,
        "execution": {
          "iopub.status.busy": "2025-01-03T22:05:57.772491Z",
          "iopub.execute_input": "2025-01-03T22:05:57.772883Z",
          "iopub.status.idle": "2025-01-03T22:05:58.132682Z",
          "shell.execute_reply.started": "2025-01-03T22:05:57.772845Z",
          "shell.execute_reply": "2025-01-03T22:05:58.131414Z"
        },
        "id": "6SC3n7Ouyo3A",
        "collapsed": true
      },
      "outputs": [],
      "execution_count": null
    },
    {
      "cell_type": "code",
      "source": [
        "mapie.conformity_scores_.mean()"
      ],
      "metadata": {
        "trusted": true,
        "execution": {
          "iopub.status.busy": "2025-01-03T22:05:58.134312Z",
          "iopub.execute_input": "2025-01-03T22:05:58.134812Z",
          "iopub.status.idle": "2025-01-03T22:05:58.143028Z",
          "shell.execute_reply.started": "2025-01-03T22:05:58.134736Z",
          "shell.execute_reply": "2025-01-03T22:05:58.141896Z"
        },
        "id": "c-psscOkyo3A",
        "collapsed": true
      },
      "outputs": [],
      "execution_count": null
    },
    {
      "cell_type": "code",
      "source": [
        "np.set_printoptions(suppress=True)\n",
        "coefficients = np.round(ridge.coef_, 3)\n",
        "coefficients"
      ],
      "metadata": {
        "trusted": true,
        "execution": {
          "iopub.status.busy": "2025-01-03T22:05:58.144443Z",
          "iopub.execute_input": "2025-01-03T22:05:58.144909Z",
          "iopub.status.idle": "2025-01-03T22:05:58.158671Z",
          "shell.execute_reply.started": "2025-01-03T22:05:58.144874Z",
          "shell.execute_reply": "2025-01-03T22:05:58.157433Z"
        },
        "id": "MjFyksCCyo3B",
        "collapsed": true
      },
      "outputs": [],
      "execution_count": null
    },
    {
      "cell_type": "code",
      "source": [
        "intercept = np.round(ridge.intercept_, 3)\n",
        "intercept"
      ],
      "metadata": {
        "trusted": true,
        "execution": {
          "iopub.status.busy": "2025-01-03T22:05:58.16031Z",
          "iopub.execute_input": "2025-01-03T22:05:58.160845Z",
          "iopub.status.idle": "2025-01-03T22:05:58.177503Z",
          "shell.execute_reply.started": "2025-01-03T22:05:58.160766Z",
          "shell.execute_reply": "2025-01-03T22:05:58.176159Z"
        },
        "id": "6Ci6dALJyo3B",
        "collapsed": true
      },
      "outputs": [],
      "execution_count": null
    },
    {
      "cell_type": "code",
      "source": [
        "y_train_preds = []\n",
        "y_train_pis = []\n",
        "\n",
        "n_batches = len(X_train) // 10000\n",
        "\n",
        "for X_train_batch in np.array_split(X_train, n_batches):\n",
        "    y_preds_batch, y_pis_batch = mapie.predict(X_train_batch, alpha=0.1)\n",
        "    y_train_preds.append(y_preds_batch)\n",
        "    y_train_pis.append(y_pis_batch)"
      ],
      "metadata": {
        "trusted": true,
        "execution": {
          "iopub.status.busy": "2025-01-03T22:05:58.179237Z",
          "iopub.execute_input": "2025-01-03T22:05:58.1796Z",
          "iopub.status.idle": "2025-01-03T22:05:58.308314Z",
          "shell.execute_reply.started": "2025-01-03T22:05:58.179567Z",
          "shell.execute_reply": "2025-01-03T22:05:58.306898Z"
        },
        "id": "R_4jsjGayo3B",
        "collapsed": true
      },
      "outputs": [],
      "execution_count": null
    },
    {
      "cell_type": "code",
      "source": [
        "lower_train_bounds = np.concatenate([array[:, 0, 0] for array in y_train_pis])\n",
        "upper_train_bounds = np.concatenate([array[:, 1, 0] for array in y_train_pis])\n",
        "y_train_preds = np.concatenate([array[:] for array in y_train_preds])\n",
        "\n",
        "\n",
        "print(\"Lower bounds:\", lower_train_bounds)\n",
        "print(\"Upper bounds:\", upper_train_bounds)"
      ],
      "metadata": {
        "trusted": true,
        "execution": {
          "iopub.status.busy": "2025-01-03T22:05:58.316436Z",
          "iopub.execute_input": "2025-01-03T22:05:58.317655Z",
          "iopub.status.idle": "2025-01-03T22:05:58.332747Z",
          "shell.execute_reply.started": "2025-01-03T22:05:58.317565Z",
          "shell.execute_reply": "2025-01-03T22:05:58.330754Z"
        },
        "id": "A3KSGwfCyo3B",
        "collapsed": true
      },
      "outputs": [],
      "execution_count": null
    },
    {
      "cell_type": "code",
      "source": [
        "fast_mwis_score(y_train, lower_train_bounds, upper_train_bounds, alpha = 0.1)"
      ],
      "metadata": {
        "trusted": true,
        "execution": {
          "iopub.status.busy": "2025-01-03T22:05:58.334544Z",
          "iopub.execute_input": "2025-01-03T22:05:58.335179Z",
          "iopub.status.idle": "2025-01-03T22:05:58.36536Z",
          "shell.execute_reply.started": "2025-01-03T22:05:58.335109Z",
          "shell.execute_reply": "2025-01-03T22:05:58.363867Z"
        },
        "id": "tseLhKnQyo3C",
        "collapsed": true
      },
      "outputs": [],
      "execution_count": null
    },
    {
      "cell_type": "code",
      "source": [
        "plt.figure(figsize=(10, 4))\n",
        "plt.hist(lower_train_bounds, bins=np.arange(100, 5100, 20), label='долна')\n",
        "plt.hist(upper_train_bounds, bins=np.arange(100, 5100, 20), label='горна')\n",
        "plt.xlabel('граница', fontsize=12)\n",
        "plt.ylabel('број на граници')\n",
        "plt.legend()\n",
        "plt.show()"
      ],
      "metadata": {
        "trusted": true,
        "execution": {
          "iopub.status.busy": "2025-01-03T22:06:16.091113Z",
          "iopub.execute_input": "2025-01-03T22:06:16.091575Z",
          "iopub.status.idle": "2025-01-03T22:06:17.280349Z",
          "shell.execute_reply.started": "2025-01-03T22:06:16.091536Z",
          "shell.execute_reply": "2025-01-03T22:06:17.279151Z"
        },
        "id": "blDb6cQgyo3C",
        "collapsed": true
      },
      "outputs": [],
      "execution_count": null
    },
    {
      "cell_type": "code",
      "source": [
        "sample_size = int(0.3 * len(y_train))\n",
        "indices = np.random.choice(len(y_train), size=sample_size, replace=False)\n",
        "\n",
        "y_train_numpy = y_train.to_numpy().flatten()\n",
        "y_train_sample = y_train_numpy[indices]\n",
        "y_train_preds_sample = y_train_preds[indices]\n",
        "lower_bounds_sample = lower_train_bounds[indices]\n",
        "upper_bounds_sample = upper_train_bounds[indices]\n",
        "\n",
        "inside_interval = (y_train_sample >= lower_bounds_sample) & (y_train_sample <= upper_bounds_sample)\n",
        "outside_interval = ~inside_interval\n",
        "\n",
        "plt.figure(figsize=(8, 6))\n",
        "\n",
        "plt.errorbar(\n",
        "    y_train_sample[inside_interval],\n",
        "    y_train_preds_sample[inside_interval],\n",
        "    yerr=[\n",
        "        y_train_preds_sample[inside_interval] - lower_bounds_sample[inside_interval],\n",
        "        upper_bounds_sample[inside_interval] - y_train_preds_sample[inside_interval],\n",
        "    ],\n",
        "    fmt='o',\n",
        "    ecolor='blue',\n",
        "    alpha=0.7,\n",
        "    label='Во рамки на предвидениот интервал',\n",
        ")\n",
        "\n",
        "plt.errorbar(\n",
        "    y_train_sample[outside_interval],\n",
        "    y_train_preds_sample[outside_interval],\n",
        "    yerr=[\n",
        "        y_train_preds_sample[outside_interval] - lower_bounds_sample[outside_interval],\n",
        "        upper_bounds_sample[outside_interval] - y_train_preds_sample[outside_interval],\n",
        "    ],\n",
        "    fmt='o',\n",
        "    ecolor='red',\n",
        "    alpha=0.1,\n",
        "    label='Грешни предвидувања',\n",
        ")\n",
        "\n",
        "plt.plot(\n",
        "    y_train_sample,\n",
        "    y_train_sample,\n",
        "    color=\"black\", linestyle=\"--\", linewidth=1, label=\"Референтни предвидувања\"\n",
        ")\n",
        "\n",
        "plt.xlabel('Референтни предвидувања', fontsize=12)\n",
        "plt.ylabel('Предвидени вредности', fontsize=12)\n",
        "plt.legend(fontsize=10)\n",
        "plt.grid(alpha=0.3)\n",
        "plt.show()"
      ],
      "metadata": {
        "trusted": true,
        "execution": {
          "iopub.status.busy": "2025-01-03T22:06:19.54686Z",
          "iopub.execute_input": "2025-01-03T22:06:19.547295Z",
          "iopub.status.idle": "2025-01-03T22:06:21.320155Z",
          "shell.execute_reply.started": "2025-01-03T22:06:19.547257Z",
          "shell.execute_reply": "2025-01-03T22:06:21.318879Z"
        },
        "id": "kLEa2iHGyo3C",
        "collapsed": true
      },
      "outputs": [],
      "execution_count": null
    },
    {
      "cell_type": "code",
      "source": [
        "residuals = y_train.to_numpy() - y_train_preds\n",
        "temp = pd.DataFrame({'y_true': y_train.to_numpy(),\n",
        "                     'y_pred': y_train_preds,\n",
        "                     'residual': residuals})\n",
        "temp['squared_residual'] = np.square(temp['residual'])\n",
        "temp.sort_values('y_pred', inplace=True)\n",
        "temp_g = temp.groupby(pd.qcut(temp.y_pred, 1000), observed=True).mean()\n",
        "\n",
        "plt.figure(figsize=(8, 2))\n",
        "plt.hist(temp.residual, bins=100, density=True)\n",
        "plt.xlabel('резидуал')\n",
        "plt.ylabel('густина')\n",
        "plt.show()\n",
        "\n",
        "ymin = df['DBWT'].min()\n",
        "\n",
        "plt.figure(figsize=(8, 6))\n",
        "plt.scatter(y_train_preds, residuals, s=10, c='g', alpha=0.7)\n",
        "plt.fill_between(temp_g.y_pred,\n",
        "                 - np.sqrt(temp_g.squared_residual),\n",
        "                 + np.sqrt(temp_g.squared_residual),\n",
        "                 color='gray', alpha=0.5, label='± Стандардна девијација')\n",
        "plt.axhline(0, color='k', linestyle='--', linewidth=1)\n",
        "plt.xlabel('Предвидувања')\n",
        "plt.ylabel('Резидуали')\n",
        "plt.legend()\n",
        "plt.grid(True)\n",
        "plt.show()\n",
        "\n",
        "plt.figure(figsize=(16, 4))\n",
        "plt.scatter(np.arange(len(X_train)), temp.residual, s=1, c='g', alpha=0.7)\n",
        "plt.axhline(0, color='k')\n",
        "plt.xlabel('index')\n",
        "plt.ylabel('residual')\n",
        "plt.show()"
      ],
      "metadata": {
        "trusted": true,
        "execution": {
          "iopub.status.busy": "2025-01-03T22:06:23.596579Z",
          "iopub.execute_input": "2025-01-03T22:06:23.597106Z",
          "iopub.status.idle": "2025-01-03T22:06:25.288131Z",
          "shell.execute_reply.started": "2025-01-03T22:06:23.597066Z",
          "shell.execute_reply": "2025-01-03T22:06:25.286726Z"
        },
        "id": "0KDV3urNyo3D",
        "collapsed": true
      },
      "outputs": [],
      "execution_count": null
    },
    {
      "cell_type": "code",
      "source": [
        "from sklearn.preprocessing import PolynomialFeatures\n",
        "from sklearn.pipeline import make_pipeline\n",
        "degree = 2\n",
        "ridge_alpha = 1.0\n",
        "\n",
        "model = make_pipeline(\n",
        "    PolynomialFeatures(degree),\n",
        "    Ridge(alpha=ridge_alpha)\n",
        ")\n",
        "\n",
        "mapie = MapieRegressor(estimator=model, cv=skf, method='naive')\n",
        "mapie.fit(X_train, y_train)"
      ],
      "metadata": {
        "trusted": true,
        "execution": {
          "iopub.status.busy": "2025-01-03T22:06:27.254273Z",
          "iopub.execute_input": "2025-01-03T22:06:27.254813Z",
          "iopub.status.idle": "2025-01-03T22:06:30.734002Z",
          "shell.execute_reply.started": "2025-01-03T22:06:27.25474Z",
          "shell.execute_reply": "2025-01-03T22:06:30.732119Z"
        },
        "id": "DOzcwdsGyo3E",
        "collapsed": true
      },
      "outputs": [],
      "execution_count": null
    },
    {
      "cell_type": "code",
      "source": [
        "y_train_preds = []\n",
        "y_train_pis = []\n",
        "\n",
        "# Predict with confidence intervals (e.g., 90% confidence level)\n",
        "n_batches = len(X_train) // 10000\n",
        "\n",
        "for X_train_batch in np.array_split(X_train, n_batches):\n",
        "    y_preds_batch, y_pis_batch = mapie.predict(X_train_batch, alpha=0.1)\n",
        "    y_train_preds.append(y_preds_batch)\n",
        "    y_train_pis.append(y_pis_batch)"
      ],
      "metadata": {
        "trusted": true,
        "execution": {
          "iopub.status.busy": "2025-01-03T22:06:36.517043Z",
          "iopub.execute_input": "2025-01-03T22:06:36.51754Z",
          "iopub.status.idle": "2025-01-03T22:06:37.740351Z",
          "shell.execute_reply.started": "2025-01-03T22:06:36.517494Z",
          "shell.execute_reply": "2025-01-03T22:06:37.73863Z"
        },
        "id": "P1EvZoyiyo3E",
        "collapsed": true
      },
      "outputs": [],
      "execution_count": null
    },
    {
      "cell_type": "code",
      "source": [
        "lower_train_bounds = np.concatenate([array[:, 0, 0] for array in y_train_pis])\n",
        "upper_train_bounds = np.concatenate([array[:, 1, 0] for array in y_train_pis])\n",
        "y_train_preds = np.concatenate([array[:] for array in y_train_preds])\n",
        "\n",
        "\n",
        "print(\"Lower bounds:\", lower_train_bounds)\n",
        "print(\"Upper bounds:\", upper_train_bounds)"
      ],
      "metadata": {
        "trusted": true,
        "execution": {
          "iopub.status.busy": "2025-01-03T22:06:40.094467Z",
          "iopub.execute_input": "2025-01-03T22:06:40.096045Z",
          "iopub.status.idle": "2025-01-03T22:06:40.107363Z",
          "shell.execute_reply.started": "2025-01-03T22:06:40.095984Z",
          "shell.execute_reply": "2025-01-03T22:06:40.105748Z"
        },
        "id": "ew2seiQSyo3E",
        "collapsed": true
      },
      "outputs": [],
      "execution_count": null
    },
    {
      "cell_type": "code",
      "source": [
        "fast_mwis_score(y_train, lower_train_bounds, upper_train_bounds, alpha = 0.1)"
      ],
      "metadata": {
        "trusted": true,
        "execution": {
          "iopub.status.busy": "2025-01-03T22:06:41.427442Z",
          "iopub.execute_input": "2025-01-03T22:06:41.428497Z",
          "iopub.status.idle": "2025-01-03T22:06:41.441428Z",
          "shell.execute_reply.started": "2025-01-03T22:06:41.428454Z",
          "shell.execute_reply": "2025-01-03T22:06:41.440174Z"
        },
        "id": "wkg6GG5Myo3F",
        "collapsed": true
      },
      "outputs": [],
      "execution_count": null
    },
    {
      "cell_type": "code",
      "source": [
        "n_batches = len(X_test) // 10000\n",
        "y_preds = []\n",
        "y_pis = []\n",
        "\n",
        "for X_test_batch in np.array_split(X_test, n_batches):\n",
        "    y_preds_batch, y_pis_batch = mapie.predict(X_test_batch, alpha=0.1)\n",
        "    y_preds.append(y_preds_batch)\n",
        "    y_pis.append(y_pis_batch)"
      ],
      "metadata": {
        "trusted": true,
        "execution": {
          "iopub.status.busy": "2025-01-03T22:06:43.17687Z",
          "iopub.execute_input": "2025-01-03T22:06:43.177307Z",
          "iopub.status.idle": "2025-01-03T22:06:43.416153Z",
          "shell.execute_reply.started": "2025-01-03T22:06:43.177269Z",
          "shell.execute_reply": "2025-01-03T22:06:43.414578Z"
        },
        "id": "4gS05xeRyo3F",
        "collapsed": true
      },
      "outputs": [],
      "execution_count": null
    },
    {
      "cell_type": "code",
      "source": [
        "lower_bounds = np.concatenate([array[:, 0, 0] for array in y_pis])\n",
        "upper_bounds = np.concatenate([array[:, 1, 0] for array in y_pis])\n",
        "y_preds = np.concatenate([array[:] for array in y_preds])\n",
        "\n",
        "print(\"Lower bounds:\", lower_bounds)\n",
        "print(\"Upper bounds:\", upper_bounds)"
      ],
      "metadata": {
        "trusted": true,
        "execution": {
          "iopub.status.busy": "2025-01-03T22:06:44.994656Z",
          "iopub.execute_input": "2025-01-03T22:06:44.995825Z",
          "iopub.status.idle": "2025-01-03T22:06:45.005996Z",
          "shell.execute_reply.started": "2025-01-03T22:06:44.995741Z",
          "shell.execute_reply": "2025-01-03T22:06:45.004282Z"
        },
        "id": "Kxgck7iXyo3F",
        "collapsed": true
      },
      "outputs": [],
      "execution_count": null
    },
    {
      "cell_type": "code",
      "source": [
        "fast_mwis_score(y_test, lower_bounds, upper_bounds, alpha = 0.1)"
      ],
      "metadata": {
        "trusted": true,
        "execution": {
          "iopub.status.busy": "2025-01-03T22:06:46.30031Z",
          "iopub.execute_input": "2025-01-03T22:06:46.30077Z",
          "iopub.status.idle": "2025-01-03T22:06:46.316836Z",
          "shell.execute_reply.started": "2025-01-03T22:06:46.300733Z",
          "shell.execute_reply": "2025-01-03T22:06:46.315152Z"
        },
        "id": "4YTEMDiGyo3F",
        "collapsed": true
      },
      "outputs": [],
      "execution_count": null
    },
    {
      "cell_type": "code",
      "source": [
        "plt.figure(figsize=(10, 4))\n",
        "plt.hist(lower_bounds, bins=np.arange(100, 5100, 20), label='долна граница')\n",
        "plt.hist(upper_bounds, bins=np.arange(100, 5100, 20), label='горна граница')\n",
        "\n",
        "plt.legend()\n",
        "plt.show()"
      ],
      "metadata": {
        "trusted": true,
        "execution": {
          "iopub.status.busy": "2025-01-03T22:07:01.872087Z",
          "iopub.execute_input": "2025-01-03T22:07:01.872669Z",
          "iopub.status.idle": "2025-01-03T22:07:02.98788Z",
          "shell.execute_reply.started": "2025-01-03T22:07:01.872628Z",
          "shell.execute_reply": "2025-01-03T22:07:02.98639Z"
        },
        "id": "AXJGqw2Syo3G",
        "collapsed": true
      },
      "outputs": [],
      "execution_count": null
    }
  ]
}